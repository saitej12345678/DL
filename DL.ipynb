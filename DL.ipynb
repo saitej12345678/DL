{
  "nbformat": 4,
  "nbformat_minor": 0,
  "metadata": {
    "colab": {
      "provenance": [],
      "authorship_tag": "ABX9TyOmPdnjC8vauYg7ouS/YBvi",
      "include_colab_link": true
    },
    "kernelspec": {
      "name": "python3",
      "display_name": "Python 3"
    },
    "language_info": {
      "name": "python"
    }
  },
  "cells": [
    {
      "cell_type": "markdown",
      "metadata": {
        "id": "view-in-github",
        "colab_type": "text"
      },
      "source": [
        "<a href=\"https://colab.research.google.com/github/saitej12345678/DL/blob/main/DL.ipynb\" target=\"_parent\"><img src=\"https://colab.research.google.com/assets/colab-badge.svg\" alt=\"Open In Colab\"/></a>"
      ]
    },
    {
      "cell_type": "code",
      "source": [
        "import numpy as np\n",
        "import random\n",
        "import sys"
      ],
      "metadata": {
        "id": "sBDDiuiHJeLW"
      },
      "execution_count": 8,
      "outputs": []
    },
    {
      "cell_type": "code",
      "source": [
        "and_gate = [\n",
        "    [(1, 1), 1],\n",
        "    [(1, -1), -1],\n",
        "    [(-1, 1), -1],\n",
        "    [(-1, -1), -1]\n",
        "]"
      ],
      "metadata": {
        "id": "EZwmAzVdW0-q"
      },
      "execution_count": 9,
      "outputs": []
    },
    {
      "cell_type": "code",
      "source": [
        "or_gate = [\n",
        "    [(1, 1), 1],\n",
        "    [(1, -1), 1],\n",
        "    [(-1, 1), 1],\n",
        "    [(-1, -1), -1]\n",
        "]"
      ],
      "metadata": {
        "id": "oAWsdBIRW9pt"
      },
      "execution_count": 10,
      "outputs": []
    },
    {
      "cell_type": "code",
      "source": [
        "\n",
        "def activation_function(a):\n",
        "    if a > 0:\n",
        "        return 1\n",
        "    elif a < 0:\n",
        "        return -1"
      ],
      "metadata": {
        "id": "lor3afbpW_RL"
      },
      "execution_count": 11,
      "outputs": []
    },
    {
      "cell_type": "code",
      "source": [
        "def perceptron(gate):\n",
        "    bias = (1,)\n",
        "    learning_constant = 0.1\n",
        "    n = 50\n",
        "    weights = []\n",
        "    for i in range(3):\n",
        "        weights.append(random.uniform(-1, 1))\n",
        "\n",
        "    for i in range(n):\n",
        "        inputs, expected_output = random.choice(gate)\n",
        "        inputs = inputs + bias\n",
        "        weighted_sum = np.dot(inputs, weights)\n",
        "        guess = activation_function(weighted_sum)\n",
        "        error = expected_output-guess\n",
        "        weights += learning_constant * error * np.asarray(inputs)\n",
        "    inputs, expected_output = random.choice(gate)\n",
        "    print(\"inputs=\" + str(inputs))\n",
        "    inputs = inputs + bias\n",
        "    weighted_sum = np.dot(inputs, weights)\n",
        "    print(\"weighted sum= \" + str(weighted_sum))\n",
        "    print(\"correct answer= \" + str(expected_output))\n",
        "    print(\"perceptron guess= \" + str(activation_function(weighted_sum)) + '\\n')\n",
        ""
      ],
      "metadata": {
        "id": "kgmWHj0pXLHg"
      },
      "execution_count": 14,
      "outputs": []
    },
    {
      "cell_type": "code",
      "source": [
        "test=2\n",
        "for i in range(test):\n",
        "    print(\"AND Gate is\")\n",
        "    perceptron(and_gate)\n",
        "\n",
        "    print(\"OR Gate is\")\n",
        "    perceptron(or_gate)"
      ],
      "metadata": {
        "colab": {
          "base_uri": "https://localhost:8080/"
        },
        "id": "mRmw6HreYQ0k",
        "outputId": "3d1f8319-ae8a-4df2-c8a9-836aad63ac49"
      },
      "execution_count": 15,
      "outputs": [
        {
          "output_type": "stream",
          "name": "stdout",
          "text": [
            "AND Gate is\n",
            "inputs=(1, -1)\n",
            "weighted sum= -0.6070690189384219\n",
            "correct answer= -1\n",
            "perceptron guess= -1\n",
            "\n",
            "OR Gate is\n",
            "inputs=(1, -1)\n",
            "weighted sum= 0.20425791929778137\n",
            "correct answer= 1\n",
            "perceptron guess= 1\n",
            "\n",
            "AND Gate is\n",
            "inputs=(1, -1)\n",
            "weighted sum= -0.20280109163807525\n",
            "correct answer= -1\n",
            "perceptron guess= -1\n",
            "\n",
            "OR Gate is\n",
            "inputs=(-1, 1)\n",
            "weighted sum= 0.32844969071432706\n",
            "correct answer= 1\n",
            "perceptron guess= 1\n",
            "\n"
          ]
        }
      ]
    }
  ]
}